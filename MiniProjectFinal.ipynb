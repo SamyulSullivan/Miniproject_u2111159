{
 "cells": [
  {
   "cell_type": "code",
   "execution_count": 2,
   "id": "feb53fcf",
   "metadata": {},
   "outputs": [],
   "source": [
    "import numpy as np\n",
    "import random\n",
    "N = 100#Stringcount \n",
    "\n",
    "def LoopCheck(rownum, Matrix):\n",
    "    Probability = 1 -((Matrix[rownum][2]*Matrix[rownum][2]) / ((Total*Total)))  \n",
    "#     print('P:',Probability)\n",
    "    random_value = random.random()\n",
    "    if random_value >= Probability:\n",
    "        return True #a loop could maybe be made\n",
    "    elif random_value < Probability:\n",
    "        return False #a loop is definitely not made\n",
    "    \n",
    "def zerooneswapper(val):\n",
    "    if val == 0: \n",
    "        return 1\n",
    "    elif val == 1:\n",
    "        return 0\n",
    "    \n",
    "def stringcheck(M,string):\n",
    "#     print(M)\n",
    "    if M[string][2] == 0:\n",
    "#         print('String is no longer try again')\n",
    "        #Does string exist check, if True algorithm can continue\n",
    "        return False\n",
    "    else:\n",
    "        return True\n"
   ]
  },
  {
   "cell_type": "code",
   "execution_count": 4,
   "id": "5b74ae79",
   "metadata": {},
   "outputs": [
    {
     "name": "stdout",
     "output_type": "stream",
     "text": [
      "[[100.0], [], [48.0, 52.0], [59.0], [84.0, 16.0], [], [8.0], [], [], [], [], [], [100.0], [84.0, 16.0], [100.0], [100.0], [], [], [100.0], []]\n"
     ]
    }
   ],
   "source": [
    "Loopsformed = []\n",
    "\n",
    "\n",
    "for k in range(20):\n",
    "    Total = N\n",
    "\n",
    "    s  = (N,3)\n",
    "    Iterations = N \n",
    "    A = np.ones(s)\n",
    "    loops = []\n",
    "    excludedvals = []\n",
    "\n",
    "    for _ in range(Iterations):\n",
    "        choices = [i for i in range(0, N) if i not in excludedvals]\n",
    "        string1 = random.choice(choices)\n",
    "        #the above code allows us to check for our first valid string\n",
    "        #we have generated valid string1 and endpoint1 value\n",
    "        #-----------------------------------------\n",
    "        #we now move forward with the true endpoint and string \n",
    "        #before we we are going to make our second string we need to consider\n",
    "        #a loop can be formed with the current string. \n",
    "        loopvalue = False\n",
    "        if LoopCheck(string1,A) == True: #if a loop is maybe formed\n",
    "    #         print('Yes')\n",
    "            string2 = random.choice(choices)\n",
    "            if string2 == string1: \n",
    "    #             print('Loop formed')\n",
    "                loops.append(A[string1][2])\n",
    "                Total = Total - A[string2][2]\n",
    "                A[string2][2] = 0\n",
    "                excludedvals.append(string1)\n",
    "                excludedvals.append(string2)\n",
    "\n",
    "            else:\n",
    "    #             print('No Loop')\n",
    "                A[string1][2] = A[string1][2]+A[string2][2]\n",
    "                A[string2][2] = 0\n",
    "        #we have now generated a valid string2 and endpoint2 for when a loop could be formed\n",
    "        #-----------------------------------------\n",
    "\n",
    "\n",
    "        elif LoopCheck(string1,A) == False: #if loop is definitely not formed\n",
    "    #         print('No')\n",
    "            excludedvals.append(string1)\n",
    "            choices = [i for i in range(0, N) if i not in excludedvals]\n",
    "            string2 = random.choice(choices)\n",
    "            A[string1][2] = A[string1][2]+A[string2][2]\n",
    "            A[string2][2] = 0\n",
    "            excludedvals.remove(string1)\n",
    "            excludedvals.append(string2)\n",
    "    #     print(excludedvals)    \n",
    "\n",
    "#     print(A)\n",
    "#     print(loops)\n",
    "    # print(excludedvals)\n",
    "#     print(loops)\n",
    "    Loopsformed.append(loops)\n",
    "print(Loopsformed)\n"
   ]
  }
 ],
 "metadata": {
  "kernelspec": {
   "display_name": "Python 3 (ipykernel)",
   "language": "python",
   "name": "python3"
  },
  "language_info": {
   "codemirror_mode": {
    "name": "ipython",
    "version": 3
   },
   "file_extension": ".py",
   "mimetype": "text/x-python",
   "name": "python",
   "nbconvert_exporter": "python",
   "pygments_lexer": "ipython3",
   "version": "3.9.12"
  }
 },
 "nbformat": 4,
 "nbformat_minor": 5
}
